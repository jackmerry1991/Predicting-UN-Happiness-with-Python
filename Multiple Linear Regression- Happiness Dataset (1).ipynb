{
 "cells": [
  {
   "cell_type": "markdown",
   "metadata": {},
   "source": [
    "# Running multiple linear regression algorithm on Happiness data"
   ]
  },
  {
   "cell_type": "code",
   "execution_count": 1,
   "metadata": {},
   "outputs": [],
   "source": [
    "import pandas as pd  \n",
    "import numpy as np  \n",
    "import matplotlib.pyplot as plt  \n",
    "import seaborn as seabornInstance \n",
    "from sklearn.model_selection import train_test_split \n",
    "from sklearn.linear_model import LinearRegression as lr\n",
    "from sklearn import metrics\n",
    "from sklearn.metrics import mean_squared_error\n",
    "from sklearn.metrics import r2_score\n",
    "%matplotlib inline"
   ]
  },
  {
   "cell_type": "markdown",
   "metadata": {},
   "source": [
    "### Checking dataset. Checking for null values. Expecting 'false' output"
   ]
  },
  {
   "cell_type": "code",
   "execution_count": 2,
   "metadata": {},
   "outputs": [
    {
     "name": "stdout",
     "output_type": "stream",
     "text": [
      "(139, 14)\n",
      "<bound method NDFrame.describe of      Unnamed: 0  Happiness.Score  GDP per capita (current US$)  \\\n",
      "0             0            7.537                       74185.5   \n",
      "1             1            7.522                       53149.3   \n",
      "2             2            7.504                       50936.0   \n",
      "3             3            7.494                       80831.1   \n",
      "4             4            7.469                       42148.1   \n",
      "..          ...              ...                           ...   \n",
      "134         146            3.471                         697.3   \n",
      "135         147            3.462                        1534.5   \n",
      "136         148            3.349                         877.3   \n",
      "137         149            2.905                         244.6   \n",
      "138         150            2.693                         333.2   \n",
      "\n",
      "     Employment: Services (% of employed)  \\\n",
      "0                                    77.6   \n",
      "1                                    78.4   \n",
      "2                                    78.2   \n",
      "3                                    76.1   \n",
      "4                                    73.8   \n",
      "..                                    ...   \n",
      "134                                  17.8   \n",
      "135                                  42.3   \n",
      "136                                  26.7   \n",
      "137                                   6.3   \n",
      "138                                  23.4   \n",
      "\n",
      "     Urban population (% of total population)  \\\n",
      "0                                        80.5   \n",
      "1                                        87.7   \n",
      "2                                        94.1   \n",
      "3                                        73.9   \n",
      "4                                        84.2   \n",
      "..                                        ...   \n",
      "134                                      28.8   \n",
      "135                                      57.7   \n",
      "136                                      31.6   \n",
      "137                                      12.1   \n",
      "138                                      40.0   \n",
      "\n",
      "     Infant mortality rate (per 1000 live births  \\\n",
      "0                                            2.4   \n",
      "1                                            3.5   \n",
      "2                                            1.6   \n",
      "3                                            3.9   \n",
      "4                                            2.3   \n",
      "..                                           ...   \n",
      "134                                         44.0   \n",
      "135                                         17.9   \n",
      "136                                         44.0   \n",
      "137                                         77.8   \n",
      "138                                         93.5   \n",
      "\n",
      "     Mobile-cellular subscriptions (per 100 inhabitants).1  \\\n",
      "0                                                 96.8       \n",
      "1                                                 96.3       \n",
      "2                                                 98.2       \n",
      "3                                                 88.0       \n",
      "4                                                 92.7       \n",
      "..                                                 ...       \n",
      "134                                               18.0       \n",
      "135                                               30.0       \n",
      "136                                                5.4       \n",
      "137                                                4.9       \n",
      "138                                                4.6       \n",
      "\n",
      "     Female Life Expectancy at birth (years)  \\\n",
      "0                                       83.6   \n",
      "1                                       82.2   \n",
      "2                                       83.8   \n",
      "3                                       84.8   \n",
      "4                                       83.7   \n",
      "..                                       ...   \n",
      "134                                     67.1   \n",
      "135                                     76.3   \n",
      "136                                     64.8   \n",
      "137                                     58.0   \n",
      "138                                     51.0   \n",
      "\n",
      "     Population % not viewing religion as important  Civil Liberties  \\\n",
      "0                                              78.0                0   \n",
      "1                                              80.0                0   \n",
      "2                                              54.0                0   \n",
      "3                                              57.0                0   \n",
      "4                                              70.0                0   \n",
      "..                                              ...              ...   \n",
      "134                                             5.0                5   \n",
      "135                                             9.0                6   \n",
      "136                                            11.0                3   \n",
      "137                                             2.0                5   \n",
      "138                                             6.0                6   \n",
      "\n",
      "     2016 EPI Score  EH - Water and Sanitation  \\\n",
      "0             86.90                      98.86   \n",
      "1             89.21                      99.71   \n",
      "2             90.51                      99.29   \n",
      "3             86.93                      99.93   \n",
      "4             90.68                      98.57   \n",
      "..              ...                        ...   \n",
      "134           50.34                      58.00   \n",
      "135           66.91                      76.97   \n",
      "136           58.34                      37.38   \n",
      "137           43.37                      40.62   \n",
      "138           46.46                      28.76   \n",
      "\n",
      "     Learning-Adjusted Years of School  HUMAN CAPITAL INDEX  \n",
      "0                                 11.2                 0.77  \n",
      "1                                 11.4                 0.77  \n",
      "2                                 10.7                 0.74  \n",
      "3                                 11.1                 0.77  \n",
      "4                                 12.0                 0.81  \n",
      "..                                 ...                  ...  \n",
      "134                                3.8                 0.37  \n",
      "135                                8.3                 0.58  \n",
      "136                                4.8                 0.40  \n",
      "137                                5.1                 0.38  \n",
      "138                                8.3                 0.58  \n",
      "\n",
      "[139 rows x 14 columns]>\n",
      "Unnamed: 0                                               False\n",
      "Happiness.Score                                          False\n",
      "GDP per capita (current US$)                             False\n",
      "Employment: Services (% of employed)                     False\n",
      "Urban population (% of total population)                 False\n",
      "Infant mortality rate (per 1000 live births              False\n",
      "Mobile-cellular subscriptions (per 100 inhabitants).1    False\n",
      "Female Life Expectancy at birth (years)                  False\n",
      "Population % not viewing religion as important           False\n",
      "Civil Liberties                                          False\n",
      "2016 EPI Score                                           False\n",
      "EH - Water and Sanitation                                False\n",
      "Learning-Adjusted Years of School                        False\n",
      "HUMAN CAPITAL INDEX                                      False\n",
      "dtype: bool\n"
     ]
    }
   ],
   "source": [
    "dataset = pd.read_csv(r'C:\\Users\\jackm\\Documents\\Data Analytics\\CW\\FINALMERGE.csv')\n",
    "val_set = pd.read_csv(r'C:\\Users\\jackm\\Documents\\Data Analytics\\CW\\ValidationSet.csv')\n",
    "print(dataset.shape)\n",
    "print(dataset.describe)\n",
    "print(dataset.isnull().any())"
   ]
  },
  {
   "cell_type": "markdown",
   "metadata": {},
   "source": [
    "### Creating x and y axis"
   ]
  },
  {
   "cell_type": "code",
   "execution_count": 3,
   "metadata": {},
   "outputs": [],
   "source": [
    "X = dataset[['GDP per capita (current US$)',\n",
    "             'Employment: Services (% of employed)', \n",
    "             'Urban population (% of total population)', \n",
    "             'Infant mortality rate (per 1000 live births', \n",
    "             'Mobile-cellular subscriptions (per 100 inhabitants).1', \n",
    "             'Female Life Expectancy at birth (years)', \n",
    "             'Population % not viewing religion as important', \n",
    "             'Civil Liberties', \n",
    "             '2016 EPI Score', \n",
    "             'EH - Water and Sanitation',\n",
    "             'Learning-Adjusted Years of School',\n",
    "             'HUMAN CAPITAL INDEX']]\n",
    "y = dataset['Happiness.Score']"
   ]
  },
  {
   "cell_type": "markdown",
   "metadata": {},
   "source": [
    "### Average value of Happiness score"
   ]
  },
  {
   "cell_type": "code",
   "execution_count": 4,
   "metadata": {},
   "outputs": [
    {
     "data": {
      "text/plain": [
       "<matplotlib.axes._subplots.AxesSubplot at 0x28e640808c8>"
      ]
     },
     "execution_count": 4,
     "metadata": {},
     "output_type": "execute_result"
    },
    {
     "data": {
      "image/png": "[encoded data removed]",
      "text/plain": [
       "<Figure size 1080x720 with 1 Axes>"
      ]
     },
     "metadata": {
      "needs_background": "light"
     },
     "output_type": "display_data"
    }
   ],
   "source": [
    "plt.figure(figsize=(15,10))\n",
    "plt.tight_layout()\n",
    "seabornInstance.distplot(dataset['Happiness.Score'])"
   ]
  },
  {
   "cell_type": "markdown",
   "metadata": {},
   "source": [
    "### Split data: 80% to training data and 20% to test data"
   ]
  },
  {
   "cell_type": "code",
   "execution_count": 5,
   "metadata": {},
   "outputs": [],
   "source": [
    "(X_train, \n",
    " X_test, \n",
    " y_train, \n",
    " y_test) = train_test_split(X, y, test_size=0.2, random_state=0)"
   ]
  },
  {
   "cell_type": "markdown",
   "metadata": {},
   "source": [
    "### Training the data"
   ]
  },
  {
   "cell_type": "code",
   "execution_count": 6,
   "metadata": {},
   "outputs": [
    {
     "name": "stdout",
     "output_type": "stream",
     "text": [
      "0.5589049618716961\n",
      "0.7652784521416993\n"
     ]
    }
   ],
   "source": [
    "regressor = lr()  \n",
    "regressor.fit(X_train, y_train)\n",
    "\n",
    "pred_train_lr= regressor.predict(X_train)\n",
    "#test mean squared error and r2 score on train data\n",
    "print(np.sqrt(mean_squared_error(y_train,pred_train_lr)))\n",
    "print(r2_score(y_train, pred_train_lr))"
   ]
  },
  {
   "cell_type": "markdown",
   "metadata": {},
   "source": [
    "### Viewing what co-efficients the model has chosen. Human capital index has the greatest effect on happiness score."
   ]
  },
  {
   "cell_type": "code",
   "execution_count": 7,
   "metadata": {},
   "outputs": [
    {
     "name": "stdout",
     "output_type": "stream",
     "text": [
      "                                                    Coefficient\n",
      "GDP per capita (current US$)                           0.000015\n",
      "Employment: Services (% of employed)                   0.004203\n",
      "Urban population (% of total population)               0.004877\n",
      "Infant mortality rate (per 1000 live births            0.019958\n",
      "Mobile-cellular subscriptions (per 100 inhabita...     0.005559\n",
      "Female Life Expectancy at birth (years)                0.075149\n",
      "Population % not viewing religion as important        -0.005226\n",
      "Civil Liberties                                       -0.021848\n",
      "2016 EPI Score                                         0.000720\n",
      "EH - Water and Sanitation                              0.009274\n",
      "Learning-Adjusted Years of School                      0.231473\n",
      "HUMAN CAPITAL INDEX                                   -3.140211\n"
     ]
    }
   ],
   "source": [
    "coeff_df = pd.DataFrame(regressor.coef_, X.columns, columns=['Coefficient'])  \n",
    "print(coeff_df)"
   ]
  },
  {
   "cell_type": "markdown",
   "metadata": {},
   "source": [
    "### Viewing the prediction on the test data. Output shows the difference between actual and predicted score."
   ]
  },
  {
   "cell_type": "code",
   "execution_count": 8,
   "metadata": {},
   "outputs": [
    {
     "name": "stdout",
     "output_type": "stream",
     "text": [
      "MSE: 0.43538464753908057\n",
      "R2: 0.6815833282896258\n",
      "RMSE:  0.6598368340272317\n",
      "     Actual  Predicted\n",
      "8     7.284   6.825149\n",
      "90    4.775   5.598026\n",
      "120   3.936   3.400756\n",
      "109   4.291   4.180514\n",
      "27    6.452   5.850686\n",
      "101   4.545   4.912466\n",
      "60    5.500   5.601412\n",
      "96    4.644   5.542682\n",
      "113   4.139   4.095770\n",
      "121   3.875   3.919452\n",
      "26    6.454   5.197374\n",
      "89    4.829   4.660307\n",
      "24    6.527   6.614089\n",
      "110   4.286   5.271279\n",
      "91    4.735   4.916978\n",
      "59    5.525   5.241006\n",
      "135   3.462   5.135121\n",
      "51    5.825   5.609245\n",
      "119   3.970   4.433487\n",
      "106   4.440   5.095123\n",
      "33    6.168   5.718647\n",
      "22    6.609   6.011682\n",
      "2     7.504   6.996743\n",
      "118   4.028   3.372118\n",
      "62    5.472   6.847181\n"
     ]
    },
    {
     "data": {
      "image/png": "[encoded data removed]",
      "text/plain": [
       "<Figure size 432x288 with 1 Axes>"
      ]
     },
     "metadata": {
      "needs_background": "light"
     },
     "output_type": "display_data"
    },
    {
     "name": "stdout",
     "output_type": "stream",
     "text": [
      "-2.288763920433343\n"
     ]
    }
   ],
   "source": [
    "y_pred = regressor.predict(X_test)\n",
    "df = pd.DataFrame({'Actual': y_test, 'Predicted': y_pred})\n",
    "df1 = df.head(25)\n",
    "#print meansquared error and r2 score for test data and prediction actual comparison\n",
    "print('MSE:', mean_squared_error(y_test, y_pred))\n",
    "print('R2:', r2_score(y_test, y_pred))\n",
    "mse = mean_squared_error(y_test, y_pred)\n",
    "print ('RMSE: ', np.sqrt(mse))\n",
    "print(df1)\n",
    "# interceptplt.scatter(X_test, y_test,  color='gray')\n",
    "plt.plot(X_test, y_pred, color='red', linewidth=2)\n",
    "plt.show()\n",
    "print(regressor.intercept_)"
   ]
  },
  {
   "cell_type": "code",
   "execution_count": null,
   "metadata": {},
   "outputs": [],
   "source": []
  },
  {
   "cell_type": "markdown",
   "metadata": {},
   "source": [
    "### Plotting of the above data on a bar chart. Returning good prediction results?"
   ]
  },
  {
   "cell_type": "code",
   "execution_count": 9,
   "metadata": {},
   "outputs": [
    {
     "data": {
      "image/png": "[encoded data removed]",
      "text/plain": [
       "<Figure size 720x576 with 1 Axes>"
      ]
     },
     "metadata": {
      "needs_background": "light"
     },
     "output_type": "display_data"
    }
   ],
   "source": [
    "df1.plot(kind='bar',figsize=(10,8))\n",
    "plt.grid(which='major', linestyle='-', linewidth='0.5', color='green')\n",
    "plt.grid(which='minor', linestyle=':', linewidth='0.5', color='black')\n",
    "plt.show()"
   ]
  },
  {
   "cell_type": "markdown",
   "metadata": {},
   "source": [
    "### Evaluation of performance of this algorithm. Looking for RMSE as close to 0 as possible- result is @10% on mean value? Indicative of an algo that is not very accurate but still makes good predictions? \n",
    "#### Factors that contribute to inaccuracy: \n",
    " - Need for more data: large amount of data needed for the best result\n",
    " - Bad assumptions: linear relationship?\n",
    " - Poor features: did the features we chose have the best correlation"
   ]
  },
  {
   "cell_type": "code",
   "execution_count": 10,
   "metadata": {},
   "outputs": [
    {
     "name": "stdout",
     "output_type": "stream",
     "text": [
      "Mean Absolute Error: 0.5148587899046813\n",
      "Mean Squared Error: 0.43538464753908057\n",
      "Root Mean Squared Error: 0.6598368340272317\n"
     ]
    }
   ],
   "source": [
    "print('Mean Absolute Error:', metrics.mean_absolute_error(y_test, y_pred))  \n",
    "print('Mean Squared Error:', metrics.mean_squared_error(y_test, y_pred))  \n",
    "print('Root Mean Squared Error:', np.sqrt(metrics.mean_squared_error(y_test, y_pred)))"
   ]
  },
  {
   "cell_type": "code",
   "execution_count": 11,
   "metadata": {},
   "outputs": [],
   "source": [
    "# test on holdout set\n",
    "actual = val_set['Happiness.Score']\n",
    "val_set.drop(columns = 'Happiness.Score', inplace = True)\n",
    "val_set.drop(columns = 'Unnamed: 0', inplace = True)\n"
   ]
  },
  {
   "cell_type": "code",
   "execution_count": 12,
   "metadata": {},
   "outputs": [
    {
     "name": "stdout",
     "output_type": "stream",
     "text": [
      "MSE: 0.19111303554314085\n",
      "R2: 0.7228629878649973\n",
      "RMSE:  0.4371647693297584\n",
      "    Actual  Predicted  Difference\n",
      "0    4.497   4.700276   -0.203275\n",
      "1    5.823   5.403190    0.419810\n",
      "2    4.805   5.366922   -0.561922\n",
      "3    5.872   5.414619    0.457381\n",
      "4    6.572   7.175494   -0.603494\n",
      "5    5.004   4.903661    0.100339\n",
      "6    5.175   5.349010   -0.174010\n",
      "7    5.621   6.382320   -0.761320\n",
      "8    6.599   6.206711    0.392289\n",
      "9    4.292   4.487594   -0.195594\n",
      "10   4.168   4.472898   -0.304898\n",
      "11   6.344   5.813369    0.530631\n",
      "Actual        6.599000\n",
      "Predicted     7.175494\n",
      "Difference    0.530631\n",
      "dtype: float64\n",
      "Actual        4.168000\n",
      "Predicted     4.472898\n",
      "Difference   -0.761320\n",
      "dtype: float64\n"
     ]
    }
   ],
   "source": [
    "val_pred = regressor.predict(val_set)\n",
    "print('MSE:', mean_squared_error(actual, val_pred))\n",
    "print('R2:', r2_score(actual, val_pred))\n",
    "df_val = pd.DataFrame({'Actual': actual, 'Predicted': val_pred, 'Difference': actual - val_pred})\n",
    "mse = mean_squared_error(actual, val_pred)\n",
    "print ('RMSE: ', np.sqrt(mse))\n",
    "\n",
    "print(df_val)\n",
    "print(df_val.max())\n",
    "print(df_val.min())"
   ]
  },
  {
   "cell_type": "code",
   "execution_count": 13,
   "metadata": {},
   "outputs": [
    {
     "data": {
      "image/png": "[encoded data removed]",
      "text/plain": [
       "<Figure size 720x576 with 1 Axes>"
      ]
     },
     "metadata": {
      "needs_background": "light"
     },
     "output_type": "display_data"
    }
   ],
   "source": [
    "df_val.plot(kind='bar',figsize=(10,8))\n",
    "plt.grid(which='major', linestyle='-', linewidth='0.5', color='green')\n",
    "plt.grid(which='minor', linestyle=':', linewidth='0.5', color='black')\n",
    "plt.show()"
   ]
  },
  {
   "cell_type": "code",
   "execution_count": 14,
   "metadata": {},
   "outputs": [],
   "source": [
    "#grid search\n"
   ]
  },
  {
   "cell_type": "code",
   "execution_count": 15,
   "metadata": {},
   "outputs": [
    {
     "name": "stdout",
     "output_type": "stream",
     "text": [
      "(111, 12) (111,)\n",
      "(28, 12) (28,)\n"
     ]
    }
   ],
   "source": [
    "# Linear Regression without GridSearch\n",
    "\n",
    "from sklearn.linear_model import LinearRegression\n",
    "from sklearn.model_selection import train_test_split\n",
    "from sklearn.model_selection import cross_val_score, cross_val_predict\n",
    "from sklearn import metrics\n",
    "\n",
    "\n",
    "X = pd.read_csv(r'C:\\Users\\jackm\\Documents\\Data Analytics\\CW\\FINALMERGE.csv')\n",
    "y = X['Happiness.Score']\n",
    "X.drop(columns = 'Happiness.Score', inplace = True)\n",
    "X.drop(columns = 'Unnamed: 0', inplace = True)\n",
    "\n",
    "X_train, X_test, y_train, y_test = train_test_split(X, y, test_size = 0.2)   \n",
    "print (X_train.shape, y_train.shape)\n",
    "print (X_test.shape, y_test.shape)    #It's good practice to check\n",
    "\n"
   ]
  },
  {
   "cell_type": "code",
   "execution_count": 16,
   "metadata": {},
   "outputs": [
    {
     "name": "stdout",
     "output_type": "stream",
     "text": [
      "[0.46872451 0.83384175 0.69097253 0.66091029 0.71404539] 0.6736988930566812 0.1181101173238931\n"
     ]
    }
   ],
   "source": [
    "from sklearn.metrics import r2_score\n",
    "from sklearn.model_selection import GridSearchCV\n",
    "\n",
    "regressor = lr()\n",
    "\n",
    "\n",
    "scores = cross_val_score(regressor, X_train, y_train, cv = 5)    \n",
    "\n",
    "print (scores, np.mean(scores), np.std(scores))\n",
    "\n",
    "#To get predictions (y_hat) and check them all in one using cross validation\n",
    "\n",
    "predictions = cross_val_predict(regressor, X_test, y_test, cv = 5)    \n",
    "accuracy = metrics.r2_score(y_test, predictions)  #accuracy of the predictions from the best cv fold\n",
    "\n",
    "\n"
   ]
  },
  {
   "cell_type": "code",
   "execution_count": 17,
   "metadata": {},
   "outputs": [
    {
     "data": {
      "text/plain": [
       "0.5331930162976112"
      ]
     },
     "execution_count": 17,
     "metadata": {},
     "output_type": "execute_result"
    }
   ],
   "source": [
    "regressor.fit(X_train, y_train)\n",
    "\n",
    "y_hat = regressor.predict(X_test)      #this gives me my predictions\n",
    "\n",
    "regressor.score(X_test, y_test)     #this tells me my model performance\n"
   ]
  },
  {
   "cell_type": "code",
   "execution_count": 18,
   "metadata": {},
   "outputs": [
    {
     "name": "stdout",
     "output_type": "stream",
     "text": [
      "[5.73829977 5.67807768 5.28206955 5.82946484 4.94645238 5.55813116\n",
      " 6.72040779 6.33622664 5.33954112 5.60187351 3.70425145 5.39483857\n",
      " 6.95299505 5.47303265 7.0307001  4.95585746 3.42850936 6.10834795\n",
      " 5.88549484 6.5850242  3.74951387 5.46249321 5.44137586 5.00092518\n",
      " 4.39927226 4.98789438 5.9020999  4.45457233]\n",
      "33     6.168\n",
      "23     6.578\n",
      "107    4.376\n",
      "66     5.324\n",
      "50     5.838\n",
      "64     5.395\n",
      "16     6.891\n",
      "79     5.195\n",
      "55     5.715\n",
      "73     5.237\n",
      "105    4.460\n",
      "61     5.493\n",
      "13     6.993\n",
      "53     5.819\n",
      "2      7.504\n",
      "81     5.181\n",
      "130    3.591\n",
      "57     5.611\n",
      "11     7.079\n",
      "30     6.403\n",
      "117    4.032\n",
      "51     5.825\n",
      "60     5.500\n",
      "26     6.454\n",
      "102    4.535\n",
      "38     6.071\n",
      "47     5.902\n",
      "84     5.074\n",
      "Name: Happiness.Score, dtype: float64\n",
      "33    -0.429700\n",
      "23    -0.899922\n",
      "107    0.906070\n",
      "66     0.505465\n",
      "50    -0.891547\n",
      "64     0.163131\n",
      "16    -0.170592\n",
      "79     1.141226\n",
      "55    -0.375459\n",
      "73     0.364874\n",
      "105   -0.755749\n",
      "61    -0.098161\n",
      "13    -0.040005\n",
      "53    -0.345967\n",
      "2     -0.473300\n",
      "81    -0.225143\n",
      "130   -0.162491\n",
      "57     0.497348\n",
      "11    -1.193505\n",
      "30     0.182024\n",
      "117   -0.282486\n",
      "51    -0.362507\n",
      "60    -0.058624\n",
      "26    -1.453075\n",
      "102   -0.135728\n",
      "38    -1.083106\n",
      "47     0.000100\n",
      "84    -0.619428\n",
      "Name: Happiness.Score, dtype: float64\n"
     ]
    }
   ],
   "source": [
    "print(y_hat)\n",
    "print(y_test)\n",
    "difference = y_hat - y_test\n",
    "print(difference)"
   ]
  },
  {
   "cell_type": "code",
   "execution_count": 27,
   "metadata": {},
   "outputs": [
    {
     "name": "stdout",
     "output_type": "stream",
     "text": [
      "-0.07533869333232716\n",
      "-0.22486631748780278\n"
     ]
    }
   ],
   "source": [
    "#view mean difference\n",
    "dfnew = pd.DataFrame({'LR Difference': df_val['Difference'], 'GridSearch Difference': difference})\n",
    "print(dfnew['LR Difference'].mean())\n",
    "print(dfnew['GridSearch Difference'].mean())"
   ]
  },
  {
   "cell_type": "code",
   "execution_count": 25,
   "metadata": {},
   "outputs": [
    {
     "data": {
      "image/png": "[encoded data removed]",
      "text/plain": [
       "<Figure size 720x576 with 1 Axes>"
      ]
     },
     "metadata": {
      "needs_background": "light"
     },
     "output_type": "display_data"
    }
   ],
   "source": [
    "dfnew.plot(kind='bar',figsize=(10,8))\n",
    "plt.grid(which='major', linestyle='-', linewidth='0.5', color='green')\n",
    "plt.grid(which='minor', linestyle=':', linewidth='0.5', color='black')\n",
    "plt.show()"
   ]
  },
  {
   "cell_type": "code",
   "execution_count": 71,
   "metadata": {},
   "outputs": [],
   "source": [
    "\n",
    "val_set = pd.read_csv(r'C:\\Users\\jackm\\Documents\\Data Analytics\\CW\\ValidationSet.csv')\n",
    "val_set.drop(columns = 'Unnamed: 0', inplace = True)"
   ]
  },
  {
   "cell_type": "code",
   "execution_count": 72,
   "metadata": {},
   "outputs": [],
   "source": [
    "actual = val_set['Happiness.Score']\n",
    "val_set.drop(columns = 'Happiness.Score', inplace = True)\n"
   ]
  },
  {
   "cell_type": "code",
   "execution_count": 73,
   "metadata": {},
   "outputs": [
    {
     "name": "stdout",
     "output_type": "stream",
     "text": [
      "[4.8371695  5.40513259 5.49194663 5.48538886 7.16431438 5.0092367\n",
      " 5.40564159 6.35794206 6.19725854 4.6223754  4.42741862 5.77597375]\n"
     ]
    }
   ],
   "source": [
    "\n",
    "y_hat = regressor.predict(val_set)     #this gives me my predictions\n",
    "print(y_hat)\n",
    "dfcompare = pd.DataFrame({'Actual': actual, 'Predicted': y_hat, 'Difference': actual - val_pred})"
   ]
  },
  {
   "cell_type": "code",
   "execution_count": 74,
   "metadata": {},
   "outputs": [
    {
     "name": "stdout",
     "output_type": "stream",
     "text": [
      "    Actual  Predicted  Difference\n",
      "0    4.497   4.837170   -0.203275\n",
      "1    5.823   5.405133    0.419810\n",
      "2    4.805   5.491947   -0.561922\n",
      "3    5.872   5.485389    0.457381\n",
      "4    6.572   7.164314   -0.603494\n",
      "5    5.004   5.009237    0.100339\n",
      "6    5.175   5.405642   -0.174010\n",
      "7    5.621   6.357942   -0.761320\n",
      "8    6.599   6.197259    0.392289\n",
      "9    4.292   4.622375   -0.195594\n",
      "10   4.168   4.427419   -0.304898\n",
      "11   6.344   5.775974    0.530631\n"
     ]
    }
   ],
   "source": [
    "print(dfcompare)\n",
    "dfcompare.drop(columns = 'Difference', inplace = True)\n"
   ]
  },
  {
   "cell_type": "code",
   "execution_count": null,
   "metadata": {},
   "outputs": [],
   "source": []
  },
  {
   "cell_type": "code",
   "execution_count": 75,
   "metadata": {},
   "outputs": [
    {
     "name": "stdout",
     "output_type": "stream",
     "text": [
      "mse 0.19111303554314085\n",
      "r2: 0.7228629878649973\n",
      "RMSE:  0.4371647693297584\n"
     ]
    }
   ],
   "source": [
    "print('mse', mean_squared_error(actual, val_pred))\n",
    "mse = mean_squared_error(actual, val_pred)\n",
    "print('r2:', r2_score(actual, val_pred))\n",
    "print ('RMSE: ', np.sqrt(mse))\n",
    "#same score"
   ]
  },
  {
   "cell_type": "code",
   "execution_count": null,
   "metadata": {},
   "outputs": [],
   "source": []
  },
  {
   "cell_type": "code",
   "execution_count": 78,
   "metadata": {},
   "outputs": [
    {
     "data": {
      "image/png": "[encoded data removed]",
      "text/plain": [
       "<Figure size 720x576 with 1 Axes>"
      ]
     },
     "metadata": {
      "needs_background": "light"
     },
     "output_type": "display_data"
    }
   ],
   "source": [
    "dfcompare.plot(kind='bar',figsize=(10,8))\n",
    "plt.grid(which='major', linestyle='-', linewidth='0.5', color='green')\n",
    "plt.grid(which='minor', linestyle=':', linewidth='0.5', color='black')\n",
    "plt.show()"
   ]
  },
  {
   "cell_type": "code",
   "execution_count": 77,
   "metadata": {},
   "outputs": [
    {
     "data": {
      "image/png": "[encoded data removed]",
      "text/plain": [
       "<Figure size 720x576 with 1 Axes>"
      ]
     },
     "metadata": {
      "needs_background": "light"
     },
     "output_type": "display_data"
    }
   ],
   "source": [
    "df_val.plot(kind='bar',figsize=(10,8))\n",
    "plt.grid(which='major', linestyle='-', linewidth='0.5', color='green')\n",
    "plt.grid(which='minor', linestyle=':', linewidth='0.5', color='black')\n",
    "plt.show()"
   ]
  },
  {
   "cell_type": "code",
   "execution_count": 4,
   "metadata": {},
   "outputs": [
    {
     "name": "stdout",
     "output_type": "stream",
     "text": [
      "(139, 14)\n",
      "<bound method NDFrame.describe of      Unnamed: 0  Happiness.Score  GDP per capita (current US$)  \\\n",
      "0             0            7.537                       74185.5   \n",
      "1             1            7.522                       53149.3   \n",
      "2             2            7.504                       50936.0   \n",
      "3             3            7.494                       80831.1   \n",
      "4             4            7.469                       42148.1   \n",
      "..          ...              ...                           ...   \n",
      "134         146            3.471                         697.3   \n",
      "135         147            3.462                        1534.5   \n",
      "136         148            3.349                         877.3   \n",
      "137         149            2.905                         244.6   \n",
      "138         150            2.693                         333.2   \n",
      "\n",
      "     Employment: Services (% of employed)  \\\n",
      "0                                    77.6   \n",
      "1                                    78.4   \n",
      "2                                    78.2   \n",
      "3                                    76.1   \n",
      "4                                    73.8   \n",
      "..                                    ...   \n",
      "134                                  17.8   \n",
      "135                                  42.3   \n",
      "136                                  26.7   \n",
      "137                                   6.3   \n",
      "138                                  23.4   \n",
      "\n",
      "     Urban population (% of total population)  \\\n",
      "0                                        80.5   \n",
      "1                                        87.7   \n",
      "2                                        94.1   \n",
      "3                                        73.9   \n",
      "4                                        84.2   \n",
      "..                                        ...   \n",
      "134                                      28.8   \n",
      "135                                      57.7   \n",
      "136                                      31.6   \n",
      "137                                      12.1   \n",
      "138                                      40.0   \n",
      "\n",
      "     Infant mortality rate (per 1000 live births  \\\n",
      "0                                            2.4   \n",
      "1                                            3.5   \n",
      "2                                            1.6   \n",
      "3                                            3.9   \n",
      "4                                            2.3   \n",
      "..                                           ...   \n",
      "134                                         44.0   \n",
      "135                                         17.9   \n",
      "136                                         44.0   \n",
      "137                                         77.8   \n",
      "138                                         93.5   \n",
      "\n",
      "     Mobile-cellular subscriptions (per 100 inhabitants).1  \\\n",
      "0                                                 96.8       \n",
      "1                                                 96.3       \n",
      "2                                                 98.2       \n",
      "3                                                 88.0       \n",
      "4                                                 92.7       \n",
      "..                                                 ...       \n",
      "134                                               18.0       \n",
      "135                                               30.0       \n",
      "136                                                5.4       \n",
      "137                                                4.9       \n",
      "138                                                4.6       \n",
      "\n",
      "     Female Life Expectancy at birth (years)  \\\n",
      "0                                       83.6   \n",
      "1                                       82.2   \n",
      "2                                       83.8   \n",
      "3                                       84.8   \n",
      "4                                       83.7   \n",
      "..                                       ...   \n",
      "134                                     67.1   \n",
      "135                                     76.3   \n",
      "136                                     64.8   \n",
      "137                                     58.0   \n",
      "138                                     51.0   \n",
      "\n",
      "     Population % not viewing religion as important  Civil Liberties  \\\n",
      "0                                              78.0                0   \n",
      "1                                              80.0                0   \n",
      "2                                              54.0                0   \n",
      "3                                              57.0                0   \n",
      "4                                              70.0                0   \n",
      "..                                              ...              ...   \n",
      "134                                             5.0                5   \n",
      "135                                             9.0                6   \n",
      "136                                            11.0                3   \n",
      "137                                             2.0                5   \n",
      "138                                             6.0                6   \n",
      "\n",
      "     2016 EPI Score  EH - Water and Sanitation  \\\n",
      "0             86.90                      98.86   \n",
      "1             89.21                      99.71   \n",
      "2             90.51                      99.29   \n",
      "3             86.93                      99.93   \n",
      "4             90.68                      98.57   \n",
      "..              ...                        ...   \n",
      "134           50.34                      58.00   \n",
      "135           66.91                      76.97   \n",
      "136           58.34                      37.38   \n",
      "137           43.37                      40.62   \n",
      "138           46.46                      28.76   \n",
      "\n",
      "     Learning-Adjusted Years of School  HUMAN CAPITAL INDEX  \n",
      "0                                 11.2                 0.77  \n",
      "1                                 11.4                 0.77  \n",
      "2                                 10.7                 0.74  \n",
      "3                                 11.1                 0.77  \n",
      "4                                 12.0                 0.81  \n",
      "..                                 ...                  ...  \n",
      "134                                3.8                 0.37  \n",
      "135                                8.3                 0.58  \n",
      "136                                4.8                 0.40  \n",
      "137                                5.1                 0.38  \n",
      "138                                8.3                 0.58  \n",
      "\n",
      "[139 rows x 14 columns]>\n",
      "Unnamed: 0                                               False\n",
      "Happiness.Score                                          False\n",
      "GDP per capita (current US$)                             False\n",
      "Employment: Services (% of employed)                     False\n",
      "Urban population (% of total population)                 False\n",
      "Infant mortality rate (per 1000 live births              False\n",
      "Mobile-cellular subscriptions (per 100 inhabitants).1    False\n",
      "Female Life Expectancy at birth (years)                  False\n",
      "Population % not viewing religion as important           False\n",
      "Civil Liberties                                          False\n",
      "2016 EPI Score                                           False\n",
      "EH - Water and Sanitation                                False\n",
      "Learning-Adjusted Years of School                        False\n",
      "HUMAN CAPITAL INDEX                                      False\n",
      "dtype: bool\n"
     ]
    }
   ],
   "source": [
    "dataset = pd.read_csv(r'C:\\Users\\jackm\\Documents\\Data Analytics\\CW\\FINALMERGE.csv')\n",
    "val_set = pd.read_csv(r'C:\\Users\\jackm\\Documents\\Data Analytics\\CW\\ValidationSet.csv')\n",
    "print(dataset.shape)\n",
    "print(dataset.describe)\n",
    "print(dataset.isnull().any())"
   ]
  },
  {
   "cell_type": "code",
   "execution_count": 5,
   "metadata": {},
   "outputs": [],
   "source": [
    "dataset.drop(columns = 'Population % not viewing religion as important', inplace = True)\n",
    "val_set.drop(columns = 'Population % not viewing religion as important', inplace = True)"
   ]
  },
  {
   "cell_type": "code",
   "execution_count": 6,
   "metadata": {},
   "outputs": [],
   "source": [
    "X = dataset[['GDP per capita (current US$)',\n",
    "             'Employment: Services (% of employed)', \n",
    "             'Urban population (% of total population)', \n",
    "             'Infant mortality rate (per 1000 live births', \n",
    "             'Mobile-cellular subscriptions (per 100 inhabitants).1', \n",
    "             'Female Life Expectancy at birth (years)', \n",
    "             'Civil Liberties', \n",
    "             '2016 EPI Score', \n",
    "             'EH - Water and Sanitation',\n",
    "             'Learning-Adjusted Years of School',\n",
    "             'HUMAN CAPITAL INDEX']]\n",
    "y = dataset['Happiness.Score']"
   ]
  },
  {
   "cell_type": "code",
   "execution_count": 7,
   "metadata": {},
   "outputs": [],
   "source": [
    "(X_train, \n",
    " X_test, \n",
    " y_train, \n",
    " y_test) = train_test_split(X, y, test_size=0.2, random_state=0)"
   ]
  },
  {
   "cell_type": "code",
   "execution_count": 8,
   "metadata": {},
   "outputs": [
    {
     "name": "stdout",
     "output_type": "stream",
     "text": [
      "0.5644286804075425\n",
      "0.7606159683365681\n"
     ]
    }
   ],
   "source": [
    "regressor = lr()  \n",
    "regressor.fit(X_train, y_train)\n",
    "\n",
    "pred_train_lr= regressor.predict(X_train)\n",
    "#test mean squared error and r2 score on train data\n",
    "print(np.sqrt(mean_squared_error(y_train,pred_train_lr)))\n",
    "print(r2_score(y_train, pred_train_lr))"
   ]
  },
  {
   "cell_type": "code",
   "execution_count": 9,
   "metadata": {},
   "outputs": [
    {
     "name": "stdout",
     "output_type": "stream",
     "text": [
      "MSE: 0.4310010879939945\n",
      "R2: 0.6847892255312487\n",
      "RMSE:  0.656506731110957\n",
      "     Actual  Predicted\n",
      "8     7.284   6.949255\n",
      "90    4.775   5.473536\n",
      "120   3.936   3.445619\n",
      "109   4.291   4.173586\n",
      "27    6.452   5.779414\n",
      "101   4.545   4.895607\n",
      "60    5.500   5.547392\n",
      "96    4.644   5.642108\n",
      "113   4.139   4.142878\n",
      "121   3.875   3.927920\n",
      "26    6.454   5.177740\n",
      "89    4.829   4.685707\n",
      "24    6.527   6.437436\n",
      "110   4.286   5.214945\n",
      "91    4.735   4.890407\n",
      "59    5.525   5.243596\n",
      "135   3.462   5.093846\n",
      "51    5.825   5.490645\n",
      "119   3.970   4.381818\n",
      "106   4.440   5.003863\n",
      "33    6.168   5.568331\n",
      "22    6.609   6.124013\n",
      "2     7.504   6.996633\n",
      "118   4.028   3.393098\n",
      "62    5.472   6.936662\n"
     ]
    }
   ],
   "source": [
    "y_pred = regressor.predict(X_test)\n",
    "df = pd.DataFrame({'Actual': y_test, 'Predicted': y_pred})\n",
    "df1 = df.head(25)\n",
    "#print meansquared error and r2 score for test data and prediction actual comparison\n",
    "print('MSE:', mean_squared_error(y_test, y_pred))\n",
    "print('R2:', r2_score(y_test, y_pred))\n",
    "mse = mean_squared_error(y_test, y_pred)\n",
    "print ('RMSE: ', np.sqrt(mse))\n",
    "print(df1)"
   ]
  },
  {
   "cell_type": "code",
   "execution_count": 10,
   "metadata": {},
   "outputs": [],
   "source": [
    "val_set.drop(columns = 'Unnamed: 0', inplace = True)\n",
    "actual = val_set['Happiness.Score']\n",
    "val_set.drop(columns = 'Happiness.Score', inplace = True)"
   ]
  },
  {
   "cell_type": "code",
   "execution_count": 11,
   "metadata": {},
   "outputs": [
    {
     "name": "stdout",
     "output_type": "stream",
     "text": [
      "MSE: 0.1831887386486104\n",
      "R2: 0.7343541766181847\n",
      "RMSE:  0.42800553576865147\n",
      "    Actual  Predicted  Difference\n",
      "0    4.497   4.797254   -0.300253\n",
      "1    5.823   5.294018    0.528982\n",
      "2    4.805   5.301708   -0.496708\n",
      "3    5.872   5.350051    0.521949\n",
      "4    6.572   7.025996   -0.453996\n",
      "5    5.004   4.918623    0.085377\n",
      "6    5.175   5.320665   -0.145665\n",
      "7    5.621   6.278565   -0.657565\n",
      "8    6.599   6.210399    0.388601\n",
      "9    4.292   4.515857   -0.223857\n",
      "10   4.168   4.441324   -0.273324\n",
      "11   6.344   5.738773    0.605227\n",
      "Actual        6.599000\n",
      "Predicted     7.025996\n",
      "Difference    0.605227\n",
      "dtype: float64\n",
      "Actual        4.168000\n",
      "Predicted     4.441324\n",
      "Difference   -0.657565\n",
      "dtype: float64\n"
     ]
    }
   ],
   "source": [
    "val_pred = regressor.predict(val_set)\n",
    "print('MSE:', mean_squared_error(actual, val_pred))\n",
    "print('R2:', r2_score(actual, val_pred))\n",
    "df_val = pd.DataFrame({'Actual': actual, 'Predicted': val_pred, 'Difference': actual - val_pred})\n",
    "mse = mean_squared_error(actual, val_pred)\n",
    "print ('RMSE: ', np.sqrt(mse))\n",
    "\n",
    "print(df_val)\n",
    "print(df_val.max())\n",
    "print(df_val.min())"
   ]
  },
  {
   "cell_type": "code",
   "execution_count": null,
   "metadata": {},
   "outputs": [],
   "source": []
  },
  {
   "cell_type": "code",
   "execution_count": 103,
   "metadata": {},
   "outputs": [
    {
     "name": "stdout",
     "output_type": "stream",
     "text": [
      "[4.79725353 5.29401761 5.30170825 5.35005072 7.02599555 4.9186232\n",
      " 5.32066484 6.27856487 6.21039866 4.51585656 4.44132434 5.73877271]\n"
     ]
    }
   ],
   "source": []
  },
  {
   "cell_type": "code",
   "execution_count": null,
   "metadata": {},
   "outputs": [],
   "source": []
  }
 ],
 "metadata": {
  "kernelspec": {
   "display_name": "Python 3",
   "language": "python",
   "name": "python3"
  },
  "language_info": {
   "codemirror_mode": {
    "name": "ipython",
    "version": 3
   },
   "file_extension": ".py",
   "mimetype": "text/x-python",
   "name": "python",
   "nbconvert_exporter": "python",
   "pygments_lexer": "ipython3",
   "version": "3.7.4"
  }
 },
 "nbformat": 4,
 "nbformat_minor": 4
}
